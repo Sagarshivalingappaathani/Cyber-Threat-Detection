{
  "cells": [
    {
      "cell_type": "markdown",
      "metadata": {
        "id": "rkwzZggHFRkC"
      },
      "source": [
        "<a id='top'></a>\n",
        "<div class=\"list-group\" id=\"list-tab\" role=\"tablist\">\n",
        "    \n",
        "<h1 style=\"padding: 8px;color:white; display:fill;background-color:#555555; border-radius:5px; font-size:150%\"><b> Table of contents </b></h1>\n",
        "\n",
        " - [**Introduction**](#1)\n",
        "\n",
        " - [**Import and Set Up**](#2)\n",
        "\n",
        " - [**Pre-processing and feature selection**](#3)\n",
        "    \n",
        " - [**Modelling and Evaluation**](#4)\n",
        "    - [**Logistical Classification**](#4_1)\n",
        "    - [**kNN**](#4_2)\n",
        "    - [**Decision Tree**](#4_3)\n",
        "    - [**Extra Trees**](#4_4)\n",
        "    - [**Random Forest**](#4_5)\n",
        "    - [**Gradient Boosting Classifier**](#4_6)\n",
        "    - [**Neural Network MLP**](#4_7)\n",
        "    - [**Neural Network MLP (Keras)**](#4_8)\n",
        "    - [**GRU (Keras)**](#4_9)\n",
        "    - [**LSTM (Keras)**](#4_10)\n",
        "    \n",
        " - [**Evaluate**](#5)\n",
        "   "
      ]
    },
    {
      "cell_type": "markdown",
      "metadata": {
        "id": "nHkFxcNKFRkD"
      },
      "source": [
        "<a id='1'></a>\n",
        "# <p style=\"padding: 8px;color:white; display:fill;background-color:#555555; border-radius:5px; font-size:100%\"> <b>Introduction</b>"
      ]
    },
    {
      "cell_type": "markdown",
      "metadata": {
        "id": "cpGsAXCnFRkE"
      },
      "source": [
        "This Notebook is about transforming and modelling the data. A previous notebook of mine did the EDA using pandas-profiling and sweetviz. So its not great to load here.\n",
        "\n",
        "The study has an all-in approach (using all descriptive features). It can be improved by adding back propagation and removing the features with high P-values. I did not have the time or motivation to do this as well."
      ]
    },
    {
      "cell_type": "markdown",
      "metadata": {
        "id": "qNTnXXEMFRkE"
      },
      "source": [
        "<a id='2'></a>\n",
        "# <p style=\"padding: 8px;color:white; display:fill;background-color:#555555; border-radius:5px; font-size:100%\"> <b>Import and Set up</b>"
      ]
    },
    {
      "cell_type": "code",
      "execution_count": null,
      "metadata": {
        "colab": {
          "base_uri": "https://localhost:8080/",
          "height": 17
        },
        "execution": {
          "iopub.execute_input": "2022-04-18T05:17:32.921176Z",
          "iopub.status.busy": "2022-04-18T05:17:32.920777Z",
          "iopub.status.idle": "2022-04-18T05:17:35.278171Z",
          "shell.execute_reply": "2022-04-18T05:17:35.277461Z",
          "shell.execute_reply.started": "2022-04-18T05:17:32.92107Z"
        },
        "id": "d92-0d1CFRkE",
        "outputId": "49a9077f-4691-446a-8818-5c4dfd51dd32",
        "tags": [],
        "trusted": true
      },
      "outputs": [],
      "source": [
        "import numpy as np\n",
        "import pandas as pd\n",
        "\n",
        "from IPython.core.display import display, HTML\n",
        "import plotly.graph_objects as go\n",
        "import plotly.express as px\n",
        "from plotly.subplots import make_subplots\n",
        "import plotly.io as pio\n",
        "\n",
        "\n",
        "import seaborn as sns\n",
        "from importlib import reload\n",
        "import matplotlib.pyplot as plt\n",
        "import matplotlib\n",
        "import warnings\n",
        "\n",
        "# Configure Jupyter Notebook\n",
        "pd.set_option('display.max_columns', None)\n",
        "pd.set_option('display.max_rows', 500)\n",
        "pd.set_option('display.expand_frame_repr', False)\n",
        "# pd.set_option('max_colwidth', -1)\n",
        "display(HTML(\"<style>div.output_scroll { height: 35em; }</style>\"))\n",
        "\n",
        "reload(plt)\n",
        "%matplotlib inline\n",
        "%config InlineBackend.figure_format ='retina'\n",
        "\n",
        "warnings.filterwarnings('ignore')\n",
        "\n",
        "# configure plotly graph objects\n",
        "pio.renderers.default = 'iframe'\n",
        "# pio.renderers.default = 'vscode'\n",
        "\n",
        "pio.templates[\"ck_template\"] = go.layout.Template(\n",
        "    layout_colorway = px.colors.sequential.Viridis,\n",
        "#     layout_hovermode = 'closest',\n",
        "#     layout_hoverdistance = -1,\n",
        "    layout_autosize=False,\n",
        "    layout_width=800,\n",
        "    layout_height=600,\n",
        "    layout_font = dict(family=\"Calibri Light\"),\n",
        "    layout_title_font = dict(family=\"Calibri\"),\n",
        "    layout_hoverlabel_font = dict(family=\"Calibri Light\"),\n",
        "#     plot_bgcolor=\"white\",\n",
        ")\n",
        "\n",
        "# pio.templates.default = 'seaborn+ck_template+gridon'\n",
        "pio.templates.default = 'ck_template+gridon'\n",
        "# pio.templates.default = 'seaborn+gridon'\n",
        "# pio.templates"
      ]
    },
    {
      "cell_type": "code",
      "execution_count": null,
      "metadata": {
        "execution": {
          "iopub.execute_input": "2022-04-18T05:17:35.279965Z",
          "iopub.status.busy": "2022-04-18T05:17:35.279727Z",
          "iopub.status.idle": "2022-04-18T05:17:35.850855Z",
          "shell.execute_reply": "2022-04-18T05:17:35.85012Z",
          "shell.execute_reply.started": "2022-04-18T05:17:35.279935Z"
        },
        "id": "HyRHClLbFRkF",
        "trusted": true
      },
      "outputs": [],
      "source": [
        "# Load the dataset\n",
        "from pandas_profiling import ProfileReport\n",
        "\n",
        "\n",
        "df = pd.read_csv('./UNSW_NB15_training-set.csv')\n",
        "\n",
        "# Generate the profile report\n",
        "profile = ProfileReport(df, explorative=True)\n",
        "\n",
        "# Save the report to an HTML file\n",
        "profile.to_file(\"UNSW_NB15_training_report.html\")"
      ]
    },
    {
      "cell_type": "code",
      "execution_count": null,
      "metadata": {
        "execution": {
          "iopub.execute_input": "2022-04-18T05:17:35.852356Z",
          "iopub.status.busy": "2022-04-18T05:17:35.852126Z",
          "iopub.status.idle": "2022-04-18T05:17:36.037794Z",
          "shell.execute_reply": "2022-04-18T05:17:36.037062Z",
          "shell.execute_reply.started": "2022-04-18T05:17:35.852329Z"
        },
        "id": "-IYGioF8FRkF",
        "trusted": true
      },
      "outputs": [],
      "source": [
        "df.info()"
      ]
    },
    {
      "cell_type": "code",
      "execution_count": null,
      "metadata": {
        "colab": {
          "base_uri": "https://localhost:8080/",
          "height": 383
        },
        "execution": {
          "iopub.execute_input": "2022-04-18T05:17:36.039267Z",
          "iopub.status.busy": "2022-04-18T05:17:36.039059Z",
          "iopub.status.idle": "2022-04-18T05:17:36.082488Z",
          "shell.execute_reply": "2022-04-18T05:17:36.081626Z",
          "shell.execute_reply.started": "2022-04-18T05:17:36.039241Z"
        },
        "id": "nVuSEdshFRkF",
        "outputId": "cfd36e50-30cc-458d-a7df-6a8c18b0a658",
        "trusted": true
      },
      "outputs": [],
      "source": [
        "df.head(10)"
      ]
    },
    {
      "cell_type": "code",
      "execution_count": null,
      "metadata": {
        "colab": {
          "base_uri": "https://localhost:8080/",
          "height": 414
        },
        "execution": {
          "iopub.execute_input": "2022-04-18T05:17:36.085651Z",
          "iopub.status.busy": "2022-04-18T05:17:36.085289Z",
          "iopub.status.idle": "2022-04-18T05:17:36.382997Z",
          "shell.execute_reply": "2022-04-18T05:17:36.382232Z",
          "shell.execute_reply.started": "2022-04-18T05:17:36.085607Z"
        },
        "id": "xyBELg2PFRkG",
        "outputId": "4a89f473-c15d-4a0b-ea5d-c93296870f9d",
        "trusted": true
      },
      "outputs": [],
      "source": [
        "df.describe(include='all')"
      ]
    },
    {
      "cell_type": "markdown",
      "metadata": {
        "id": "A4-T70rbFRkG",
        "tags": []
      },
      "source": [
        "<a id='3'></a>\n",
        "# <p style=\"padding: 8px;color:white; display:fill;background-color:#555555; border-radius:5px; font-size:100%\"> <b>Pre-processing and Feature Selection</b>"
      ]
    },
    {
      "cell_type": "markdown",
      "metadata": {
        "id": "rwPb8C6wFRkG",
        "tags": []
      },
      "source": [
        "The data quality report was generated for Post Block Assignment 1. This section will process and select the features in accordance with the recommendations of that report."
      ]
    },
    {
      "cell_type": "markdown",
      "metadata": {
        "id": "oiJR3jYUFRkH"
      },
      "source": [
        "## Drop irrelevant or excess feastures\n",
        "\n",
        "The first feature to drop is 'id'. This feature is an index and not descriptive.\n",
        "\n",
        "The second feature to drop is 'attack_cat'. This feature is an extension of the target feature, therefore using it will give us 100% predictions but will not give us a generalizable model.\n",
        "\n",
        "The other features to be dropped are those that were too strongly correlated. In this current version none of them were dropped, as the model is first evaluated to see how well it can perform."
      ]
    },
    {
      "cell_type": "code",
      "execution_count": null,
      "metadata": {
        "execution": {
          "iopub.execute_input": "2022-04-18T05:17:36.384674Z",
          "iopub.status.busy": "2022-04-18T05:17:36.384385Z",
          "iopub.status.idle": "2022-04-18T05:17:36.389267Z",
          "shell.execute_reply": "2022-04-18T05:17:36.388513Z",
          "shell.execute_reply.started": "2022-04-18T05:17:36.384633Z"
        },
        "id": "C_rzON1bFRkH",
        "trusted": true
      },
      "outputs": [],
      "source": [
        "list_drop = ['id','attack_cat']"
      ]
    },
    {
      "cell_type": "code",
      "execution_count": null,
      "metadata": {
        "execution": {
          "iopub.execute_input": "2022-04-18T05:17:36.390843Z",
          "iopub.status.busy": "2022-04-18T05:17:36.390449Z",
          "iopub.status.idle": "2022-04-18T05:17:36.40962Z",
          "shell.execute_reply": "2022-04-18T05:17:36.408818Z",
          "shell.execute_reply.started": "2022-04-18T05:17:36.390803Z"
        },
        "id": "Fbrnr5_mFRkH",
        "trusted": true
      },
      "outputs": [],
      "source": [
        "df.drop(list_drop,axis=1,inplace=True)"
      ]
    },
    {
      "cell_type": "markdown",
      "metadata": {
        "id": "_40Hsj_MFRkH",
        "tags": []
      },
      "source": [
        "## Apply Clamping\n",
        "\n",
        "The extreme values should be pruned to reduce the skewness of some distributions. The logic applied here is that the features with a maximum value more than ten times the median value is pruned to the 95th percentile. If the 95th percentile is close to the maximum, then the tail has more interesting information than what we want to discard.\n",
        "\n",
        "The clamping is also only applied to features with a maximum of more than 10 times the median. This prevents the bimodals and small value distributions from being excessively pruned.  "
      ]
    },
    {
      "cell_type": "code",
      "execution_count": null,
      "metadata": {
        "colab": {
          "base_uri": "https://localhost:8080/",
          "height": 320
        },
        "execution": {
          "iopub.execute_input": "2022-04-18T05:17:36.411005Z",
          "iopub.status.busy": "2022-04-18T05:17:36.410498Z",
          "iopub.status.idle": "2022-04-18T05:17:36.641366Z",
          "shell.execute_reply": "2022-04-18T05:17:36.640817Z",
          "shell.execute_reply.started": "2022-04-18T05:17:36.410973Z"
        },
        "id": "KvOsad0QFRkH",
        "outputId": "d171c367-c7ac-4c3b-a847-111cc84490cd",
        "tags": [],
        "trusted": true
      },
      "outputs": [],
      "source": [
        "# Clamp extreme Values\n",
        "df_numeric = df.select_dtypes(include=[np.number])\n",
        "df_numeric.describe(include='all')"
      ]
    },
    {
      "cell_type": "code",
      "execution_count": null,
      "metadata": {
        "execution": {
          "iopub.execute_input": "2022-04-18T05:17:36.642839Z",
          "iopub.status.busy": "2022-04-18T05:17:36.642206Z",
          "iopub.status.idle": "2022-04-18T05:17:36.88458Z",
          "shell.execute_reply": "2022-04-18T05:17:36.883729Z",
          "shell.execute_reply.started": "2022-04-18T05:17:36.642805Z"
        },
        "id": "x_zMrXdYFRkI",
        "tags": [],
        "trusted": true
      },
      "outputs": [],
      "source": [
        "DEBUG =0\n",
        "\n",
        "for feature in df_numeric.columns:\n",
        "    if DEBUG == 1:\n",
        "        print(feature)\n",
        "        print('max = '+str(df_numeric[feature].max()))\n",
        "        print('75th = '+str(df_numeric[feature].quantile(0.95)))\n",
        "        print('median = '+str(df_numeric[feature].median()))\n",
        "        print(df_numeric[feature].max()>10*df_numeric[feature].median())\n",
        "        print('----------------------------------------------------')\n",
        "    if df_numeric[feature].max()>10*df_numeric[feature].median() and df_numeric[feature].max()>10 :\n",
        "        df[feature] = np.where(df[feature]<df[feature].quantile(0.95), df[feature], df[feature].quantile(0.95))"
      ]
    },
    {
      "cell_type": "code",
      "execution_count": null,
      "metadata": {
        "id": "wDBiaFIZFRkI",
        "tags": []
      },
      "outputs": [],
      "source": []
    },
    {
      "cell_type": "code",
      "execution_count": null,
      "metadata": {
        "colab": {
          "base_uri": "https://localhost:8080/",
          "height": 320
        },
        "execution": {
          "iopub.execute_input": "2022-04-18T05:17:36.886414Z",
          "iopub.status.busy": "2022-04-18T05:17:36.885784Z",
          "iopub.status.idle": "2022-04-18T05:17:37.129184Z",
          "shell.execute_reply": "2022-04-18T05:17:37.128453Z",
          "shell.execute_reply.started": "2022-04-18T05:17:36.886381Z"
        },
        "id": "elLxAVlxFRkI",
        "outputId": "6664afce-4567-4bf3-f714-fcd66adbce3e",
        "tags": [],
        "trusted": true
      },
      "outputs": [],
      "source": [
        "df_numeric = df.select_dtypes(include=[np.number])\n",
        "df_numeric.describe(include='all')"
      ]
    },
    {
      "cell_type": "markdown",
      "metadata": {
        "id": "TODY9nWAFRkI",
        "tags": []
      },
      "source": [
        "## Apply log function to nearly all numeric, since they are all mostly skewed to the right\n",
        "\n",
        "It would have been too much of a slog to apply the log function individually, therefore a simple rule has been set up: if the number of unique values in the continuous feature is more than 50 then apply the log function. The reason more than 50 unique values are sought is to filter out the integer based features that act more categorically.  "
      ]
    },
    {
      "cell_type": "code",
      "execution_count": null,
      "metadata": {
        "execution": {
          "iopub.execute_input": "2022-04-18T05:17:37.130464Z",
          "iopub.status.busy": "2022-04-18T05:17:37.130265Z",
          "iopub.status.idle": "2022-04-18T05:17:37.243898Z",
          "shell.execute_reply": "2022-04-18T05:17:37.243098Z",
          "shell.execute_reply.started": "2022-04-18T05:17:37.130439Z"
        },
        "id": "xwtm2vc8FRkI",
        "tags": [],
        "trusted": true
      },
      "outputs": [],
      "source": [
        "df_numeric = df.select_dtypes(include=[np.number])\n",
        "df_before = df_numeric.copy()\n",
        "DEBUG = 0\n",
        "for feature in df_numeric.columns:\n",
        "    if DEBUG == 1:\n",
        "        print(feature)\n",
        "        print('nunique = '+str(df_numeric[feature].nunique()))\n",
        "        print(df_numeric[feature].nunique()>50)\n",
        "        print('----------------------------------------------------')\n",
        "    if df_numeric[feature].nunique()>50:\n",
        "        if df_numeric[feature].min()==0:\n",
        "            df[feature] = np.log(df[feature]+1)\n",
        "        else:\n",
        "            df[feature] = np.log(df[feature])\n",
        "\n",
        "df_numeric = df.select_dtypes(include=[np.number])"
      ]
    },
    {
      "cell_type": "markdown",
      "metadata": {
        "id": "o0575jJ3FRkJ",
        "tags": []
      },
      "source": [
        "## Reduce the labels in catagorical features\n",
        "\n",
        "Some features have very high cardinalities, and this section reduces the cardinality to 5 or 6 per feature. The logic is to take the top 5 occuring labels in the feature as the labels and set the remainder to '-' (seldom used) labels. When the encoding is done later on, the dimensionality will not explode and cause the curse of dimensionality."
      ]
    },
    {
      "cell_type": "code",
      "execution_count": null,
      "metadata": {
        "colab": {
          "base_uri": "https://localhost:8080/",
          "height": 174
        },
        "execution": {
          "iopub.execute_input": "2022-04-18T05:17:37.24522Z",
          "iopub.status.busy": "2022-04-18T05:17:37.245019Z",
          "iopub.status.idle": "2022-04-18T05:17:37.325763Z",
          "shell.execute_reply": "2022-04-18T05:17:37.324901Z",
          "shell.execute_reply.started": "2022-04-18T05:17:37.245195Z"
        },
        "id": "sfUoQ3S_FRkJ",
        "outputId": "66f84930-74c9-4e4b-c8e6-ed83aaab740c",
        "tags": [],
        "trusted": true
      },
      "outputs": [],
      "source": [
        "df_cat = df.select_dtypes(exclude=[np.number])\n",
        "df_cat.describe(include='all')"
      ]
    },
    {
      "cell_type": "code",
      "execution_count": null,
      "metadata": {
        "execution": {
          "iopub.execute_input": "2022-04-18T05:17:37.327212Z",
          "iopub.status.busy": "2022-04-18T05:17:37.326972Z",
          "iopub.status.idle": "2022-04-18T05:17:37.407392Z",
          "shell.execute_reply": "2022-04-18T05:17:37.406538Z",
          "shell.execute_reply.started": "2022-04-18T05:17:37.327183Z"
        },
        "id": "ROoT0R_xFRkJ",
        "tags": [],
        "trusted": true
      },
      "outputs": [],
      "source": [
        "DEBUG = 0\n",
        "for feature in df_cat.columns:\n",
        "    if DEBUG == 1:\n",
        "        print(feature)\n",
        "        print('nunique = '+str(df_cat[feature].nunique()))\n",
        "        print(df_cat[feature].nunique()>6)\n",
        "        print(sum(df[feature].isin(df[feature].value_counts().head().index)))\n",
        "        print('----------------------------------------------------')\n",
        "\n",
        "    if df_cat[feature].nunique()>6:\n",
        "        df[feature] = np.where(df[feature].isin(df[feature].value_counts().head().index), df[feature], '-')"
      ]
    },
    {
      "cell_type": "code",
      "execution_count": null,
      "metadata": {
        "colab": {
          "base_uri": "https://localhost:8080/",
          "height": 174
        },
        "execution": {
          "iopub.execute_input": "2022-04-18T05:17:37.410652Z",
          "iopub.status.busy": "2022-04-18T05:17:37.410429Z",
          "iopub.status.idle": "2022-04-18T05:17:37.489598Z",
          "shell.execute_reply": "2022-04-18T05:17:37.488946Z",
          "shell.execute_reply.started": "2022-04-18T05:17:37.410625Z"
        },
        "id": "tOfkN5cLFRkJ",
        "outputId": "1dc7584d-46f9-404e-cbd0-92a011f45aed",
        "tags": [],
        "trusted": true
      },
      "outputs": [],
      "source": [
        "df_cat = df.select_dtypes(exclude=[np.number])\n",
        "df_cat.describe(include='all')"
      ]
    },
    {
      "cell_type": "code",
      "execution_count": null,
      "metadata": {
        "colab": {
          "base_uri": "https://localhost:8080/"
        },
        "execution": {
          "iopub.execute_input": "2022-04-18T05:17:37.490731Z",
          "iopub.status.busy": "2022-04-18T05:17:37.490532Z",
          "iopub.status.idle": "2022-04-18T05:17:37.508955Z",
          "shell.execute_reply": "2022-04-18T05:17:37.50843Z",
          "shell.execute_reply.started": "2022-04-18T05:17:37.490708Z"
        },
        "id": "GwQtkAg3FRkJ",
        "outputId": "8ca71d60-236e-4bb3-ec4a-d5863529aad0",
        "tags": [],
        "trusted": true
      },
      "outputs": [],
      "source": [
        "df['proto'].value_counts().head().index"
      ]
    },
    {
      "cell_type": "code",
      "execution_count": null,
      "metadata": {
        "colab": {
          "base_uri": "https://localhost:8080/"
        },
        "execution": {
          "iopub.execute_input": "2022-04-18T05:17:37.509836Z",
          "iopub.status.busy": "2022-04-18T05:17:37.50965Z",
          "iopub.status.idle": "2022-04-18T05:17:37.533787Z",
          "shell.execute_reply": "2022-04-18T05:17:37.53324Z",
          "shell.execute_reply.started": "2022-04-18T05:17:37.509811Z"
        },
        "id": "kzo049vhFRkJ",
        "outputId": "5198e84a-26b6-48ef-80d1-6f240da9d349",
        "tags": [],
        "trusted": true
      },
      "outputs": [],
      "source": [
        "df['proto'].value_counts().index"
      ]
    },
    {
      "cell_type": "markdown",
      "metadata": {
        "id": "-nYFAf12FRkJ"
      },
      "source": [
        "## View before and after of features\n",
        "\n",
        "This section simply displays the distributions within features before and after the transformations.  "
      ]
    },
    {
      "cell_type": "markdown",
      "metadata": {
        "id": "4MBoI8YEFRkJ",
        "tags": []
      },
      "source": [
        "## Best Features\n",
        "\n",
        "This section does an analysis (univariate statistical tests) to determine which features best predict the target feature."
      ]
    },
    {
      "cell_type": "code",
      "execution_count": null,
      "metadata": {
        "colab": {
          "base_uri": "https://localhost:8080/",
          "height": 17
        },
        "execution": {
          "iopub.execute_input": "2022-04-18T05:17:37.535431Z",
          "iopub.status.busy": "2022-04-18T05:17:37.535012Z",
          "iopub.status.idle": "2022-04-18T05:17:37.9783Z",
          "shell.execute_reply": "2022-04-18T05:17:37.977444Z",
          "shell.execute_reply.started": "2022-04-18T05:17:37.535402Z"
        },
        "id": "oFJljWeyFRkJ",
        "outputId": "770d97b8-9f57-4de8-b247-96d5b917a808",
        "tags": [],
        "trusted": true
      },
      "outputs": [],
      "source": [
        "# Feature Selection\n",
        "from sklearn.feature_selection import SelectKBest, chi2\n",
        "\n",
        "best_features = SelectKBest(score_func=chi2,k='all')\n",
        "\n",
        "X = df.iloc[:,4:-2]\n",
        "y = df.iloc[:,-1]\n",
        "fit = best_features.fit(X,y)\n",
        "\n",
        "df_scores=pd.DataFrame(fit.scores_)\n",
        "df_col=pd.DataFrame(X.columns)\n",
        "\n",
        "feature_score=pd.concat([df_col,df_scores],axis=1)\n",
        "feature_score.columns=['feature','score']\n",
        "feature_score.sort_values(by=['score'],ascending=True,inplace=True)\n",
        "\n",
        "fig = go.Figure(go.Bar(\n",
        "            x=feature_score['score'][0:21],\n",
        "            y=feature_score['feature'][0:21],\n",
        "            orientation='h'))\n",
        "\n",
        "fig.update_layout(title=\"Top 20 Features\",\n",
        "                  height=1200,\n",
        "                  showlegend=False,\n",
        "                 )\n",
        "\n",
        "fig.show()"
      ]
    },
    {
      "cell_type": "markdown",
      "metadata": {
        "id": "BQdzZzcgFRkJ"
      },
      "source": [
        "## Encode categorical features\n",
        "\n",
        "The categorical features must be encoded to ensure that the models can interpret them. One-hot encoding is used since none of the categorical features are ordinal.  "
      ]
    },
    {
      "cell_type": "code",
      "execution_count": null,
      "metadata": {
        "execution": {
          "iopub.execute_input": "2022-04-18T05:17:37.980438Z",
          "iopub.status.busy": "2022-04-18T05:17:37.979948Z",
          "iopub.status.idle": "2022-04-18T05:17:38.003381Z",
          "shell.execute_reply": "2022-04-18T05:17:38.002428Z",
          "shell.execute_reply.started": "2022-04-18T05:17:37.980394Z"
        },
        "id": "1x5B_wA9FRkK",
        "trusted": true
      },
      "outputs": [],
      "source": [
        "X = df.iloc[:,:-1]\n",
        "y = df.iloc[:,-1]"
      ]
    },
    {
      "cell_type": "code",
      "execution_count": null,
      "metadata": {
        "colab": {
          "base_uri": "https://localhost:8080/"
        },
        "execution": {
          "iopub.execute_input": "2022-04-18T05:17:38.005258Z",
          "iopub.status.busy": "2022-04-18T05:17:38.004821Z",
          "iopub.status.idle": "2022-04-18T05:17:38.010377Z",
          "shell.execute_reply": "2022-04-18T05:17:38.009884Z",
          "shell.execute_reply.started": "2022-04-18T05:17:38.005226Z"
        },
        "id": "Fb0knWIoFRkK",
        "outputId": "492e7cc6-5cec-43b1-cdeb-b1b65b508a26",
        "trusted": true
      },
      "outputs": [],
      "source": [
        "X.head()\n",
        "feature_names = list(X.columns)\n",
        "np.shape(X)"
      ]
    },
    {
      "cell_type": "code",
      "execution_count": null,
      "metadata": {
        "execution": {
          "iopub.execute_input": "2022-04-18T05:17:38.011902Z",
          "iopub.status.busy": "2022-04-18T05:17:38.011521Z",
          "iopub.status.idle": "2022-04-18T05:17:38.19276Z",
          "shell.execute_reply": "2022-04-18T05:17:38.19211Z",
          "shell.execute_reply.started": "2022-04-18T05:17:38.011859Z"
        },
        "id": "JPozG4mJFRkK",
        "trusted": true
      },
      "outputs": [],
      "source": [
        "from sklearn.compose import ColumnTransformer\n",
        "from sklearn.preprocessing import OneHotEncoder\n",
        "ct = ColumnTransformer(transformers=[('encoder', OneHotEncoder(), [1,2,3])], remainder='passthrough')\n",
        "X = np.array(ct.fit_transform(X))"
      ]
    },
    {
      "cell_type": "code",
      "execution_count": null,
      "metadata": {
        "colab": {
          "base_uri": "https://localhost:8080/"
        },
        "execution": {
          "iopub.execute_input": "2022-04-18T05:17:38.194545Z",
          "iopub.status.busy": "2022-04-18T05:17:38.194136Z",
          "iopub.status.idle": "2022-04-18T05:17:38.199487Z",
          "shell.execute_reply": "2022-04-18T05:17:38.198723Z",
          "shell.execute_reply.started": "2022-04-18T05:17:38.194514Z"
        },
        "id": "RqhFxaCtFRkK",
        "outputId": "5770d448-275e-4f46-967a-e12450ee6636",
        "trusted": true
      },
      "outputs": [],
      "source": [
        "np.shape(X)"
      ]
    },
    {
      "cell_type": "code",
      "execution_count": null,
      "metadata": {
        "colab": {
          "base_uri": "https://localhost:8080/",
          "height": 174
        },
        "execution": {
          "iopub.execute_input": "2022-04-18T05:17:38.200858Z",
          "iopub.status.busy": "2022-04-18T05:17:38.200592Z",
          "iopub.status.idle": "2022-04-18T05:17:38.281951Z",
          "shell.execute_reply": "2022-04-18T05:17:38.281124Z",
          "shell.execute_reply.started": "2022-04-18T05:17:38.200828Z"
        },
        "id": "aL9dite_FRkK",
        "outputId": "2a53d6ad-910c-480e-aaa3-bc305dd29e8f",
        "trusted": true
      },
      "outputs": [],
      "source": [
        "df_cat.describe(include='all')"
      ]
    },
    {
      "cell_type": "code",
      "execution_count": null,
      "metadata": {
        "colab": {
          "base_uri": "https://localhost:8080/"
        },
        "execution": {
          "iopub.execute_input": "2022-04-18T05:17:38.28379Z",
          "iopub.status.busy": "2022-04-18T05:17:38.283208Z",
          "iopub.status.idle": "2022-04-18T05:17:38.291365Z",
          "shell.execute_reply": "2022-04-18T05:17:38.290754Z",
          "shell.execute_reply.started": "2022-04-18T05:17:38.283745Z"
        },
        "id": "dyJoclKLFRkK",
        "outputId": "f764add1-5cac-4a5a-b694-add6bdeeba63",
        "trusted": true
      },
      "outputs": [],
      "source": [
        "X[0]"
      ]
    },
    {
      "cell_type": "code",
      "execution_count": null,
      "metadata": {
        "colab": {
          "base_uri": "https://localhost:8080/"
        },
        "execution": {
          "iopub.execute_input": "2022-04-18T05:17:38.293042Z",
          "iopub.status.busy": "2022-04-18T05:17:38.292519Z",
          "iopub.status.idle": "2022-04-18T05:17:38.303329Z",
          "shell.execute_reply": "2022-04-18T05:17:38.302622Z",
          "shell.execute_reply.started": "2022-04-18T05:17:38.293006Z"
        },
        "id": "ZbKxShOFFRkK",
        "outputId": "75dbb2d9-5732-4e98-a2fb-cc57c2139012",
        "trusted": true
      },
      "outputs": [],
      "source": [
        "len(feature_names)"
      ]
    },
    {
      "cell_type": "code",
      "execution_count": null,
      "metadata": {
        "execution": {
          "iopub.execute_input": "2022-04-18T05:17:38.304933Z",
          "iopub.status.busy": "2022-04-18T05:17:38.304677Z",
          "iopub.status.idle": "2022-04-18T05:17:38.351431Z",
          "shell.execute_reply": "2022-04-18T05:17:38.350474Z",
          "shell.execute_reply.started": "2022-04-18T05:17:38.304899Z"
        },
        "id": "tQxLZfyhFRkO",
        "trusted": true
      },
      "outputs": [],
      "source": [
        "for label in list(df_cat['state'].value_counts().index)[::-1][1:]:\n",
        "    feature_names.insert(0,label)\n",
        "\n",
        "for label in list(df_cat['service'].value_counts().index)[::-1][1:]:\n",
        "    feature_names.insert(0,label)\n",
        "\n",
        "for label in list(df_cat['proto'].value_counts().index)[::-1][1:]:\n",
        "    feature_names.insert(0,label)"
      ]
    },
    {
      "cell_type": "code",
      "execution_count": null,
      "metadata": {
        "colab": {
          "base_uri": "https://localhost:8080/"
        },
        "execution": {
          "iopub.execute_input": "2022-04-18T05:17:38.353275Z",
          "iopub.status.busy": "2022-04-18T05:17:38.353042Z",
          "iopub.status.idle": "2022-04-18T05:17:38.363288Z",
          "shell.execute_reply": "2022-04-18T05:17:38.362758Z",
          "shell.execute_reply.started": "2022-04-18T05:17:38.353248Z"
        },
        "id": "70LFnErNFRkP",
        "outputId": "67320770-c672-4ec2-c95f-c1ffe1690115",
        "trusted": true
      },
      "outputs": [],
      "source": [
        "len(feature_names)"
      ]
    },
    {
      "cell_type": "markdown",
      "metadata": {
        "id": "RsR1cUapFRkP"
      },
      "source": [
        "<a id='4'></a>\n",
        "# <p style=\"padding: 8px;color:white; display:fill;background-color:#555555; border-radius:5px; font-size:100%\"> <b>Modelling and Evaluation</b>"
      ]
    },
    {
      "cell_type": "markdown",
      "metadata": {
        "id": "6U0r9hJLFRkP"
      },
      "source": [
        "## Prep for Modelling"
      ]
    },
    {
      "cell_type": "markdown",
      "metadata": {
        "id": "KtJSftmoFRkP"
      },
      "source": [
        "### Split test and training\n",
        "In this section the data is split into test and training sets using stratified sampling."
      ]
    },
    {
      "cell_type": "code",
      "execution_count": null,
      "metadata": {
        "execution": {
          "iopub.execute_input": "2022-04-18T05:17:38.365194Z",
          "iopub.status.busy": "2022-04-18T05:17:38.364696Z",
          "iopub.status.idle": "2022-04-18T05:17:38.415202Z",
          "shell.execute_reply": "2022-04-18T05:17:38.414371Z",
          "shell.execute_reply.started": "2022-04-18T05:17:38.365156Z"
        },
        "id": "KIpayaefFRkP",
        "trusted": true
      },
      "outputs": [],
      "source": [
        "from sklearn.model_selection import train_test_split\n",
        "X_train, X_test, y_train, y_test = train_test_split(X, y,\n",
        "                                                    test_size = 0.2,\n",
        "                                                    random_state = 0,\n",
        "                                                    stratify=y)"
      ]
    },
    {
      "cell_type": "markdown",
      "metadata": {
        "id": "Lglez3iGFRkP"
      },
      "source": [
        "### Standardize continuous features\n",
        "a standard scaler is used on the continuous features to put them all in the same order of size."
      ]
    },
    {
      "cell_type": "code",
      "execution_count": null,
      "metadata": {
        "colab": {
          "base_uri": "https://localhost:8080/",
          "height": 174
        },
        "execution": {
          "iopub.execute_input": "2022-04-18T05:17:38.416674Z",
          "iopub.status.busy": "2022-04-18T05:17:38.416461Z",
          "iopub.status.idle": "2022-04-18T05:17:38.491526Z",
          "shell.execute_reply": "2022-04-18T05:17:38.490819Z",
          "shell.execute_reply.started": "2022-04-18T05:17:38.416648Z"
        },
        "id": "t16uQQKKFRkP",
        "outputId": "5a020050-d296-4fd0-d976-fead02f76479",
        "trusted": true
      },
      "outputs": [],
      "source": [
        "df_cat.describe(include='all')"
      ]
    },
    {
      "cell_type": "code",
      "execution_count": null,
      "metadata": {
        "execution": {
          "iopub.execute_input": "2022-04-18T05:17:38.493362Z",
          "iopub.status.busy": "2022-04-18T05:17:38.49295Z",
          "iopub.status.idle": "2022-04-18T05:17:38.553887Z",
          "shell.execute_reply": "2022-04-18T05:17:38.552731Z",
          "shell.execute_reply.started": "2022-04-18T05:17:38.493332Z"
        },
        "id": "hR2rBB7zFRkQ",
        "trusted": true
      },
      "outputs": [],
      "source": [
        "# 6 + 5 + 6 unique = 17, therefore the first 17 rows will be the categories that have been encoded, start scaling from row 18 only.\n",
        "\n",
        "from sklearn.preprocessing import StandardScaler\n",
        "sc = StandardScaler()\n",
        "X_train[:, 18:] = sc.fit_transform(X_train[:, 18:])\n",
        "X_test[:, 18:] = sc.transform(X_test[:, 18:])"
      ]
    },
    {
      "cell_type": "markdown",
      "metadata": {
        "id": "bS7Kv7QeFRkQ"
      },
      "source": [
        "### Import Metrics\n",
        "\n",
        "Imports the libraries that will be used to evaluate the models later on"
      ]
    },
    {
      "cell_type": "code",
      "execution_count": null,
      "metadata": {
        "colab": {
          "base_uri": "https://localhost:8080/"
        },
        "id": "HtTY_oOLGhsy",
        "outputId": "6c70986e-1b5b-4fb7-e47f-b81dc880c524"
      },
      "outputs": [],
      "source": [
        "!pip install -U scikit-learn"
      ]
    },
    {
      "cell_type": "code",
      "execution_count": null,
      "metadata": {
        "execution": {
          "iopub.execute_input": "2022-04-18T05:17:38.555368Z",
          "iopub.status.busy": "2022-04-18T05:17:38.555131Z",
          "iopub.status.idle": "2022-04-18T05:17:38.563722Z",
          "shell.execute_reply": "2022-04-18T05:17:38.562872Z",
          "shell.execute_reply.started": "2022-04-18T05:17:38.555339Z"
        },
        "id": "PQbAavujFRkQ",
        "trusted": true
      },
      "outputs": [],
      "source": [
        "# from sklearn.metrics import f1_score, precision_score, recall_score, accuracy_score\n",
        "# from sklearn.metrics import plot_confusion_matrix # will plot the confusion matrix\n",
        "# import time\n",
        "# model_performance = pd.DataFrame(columns=['Accuracy','Recall','Precision','F1-Score','time to train','time to predict','total time'])\n",
        "\n",
        "\n",
        "from sklearn.metrics import f1_score, precision_score, recall_score, accuracy_score\n",
        "from sklearn.metrics import confusion_matrix, ConfusionMatrixDisplay # import confusion_matrix and ConfusionMatrixDisplay\n",
        "import time\n",
        "model_performance = pd.DataFrame(columns=['Accuracy','Recall','Precision','F1-Score','time to train','time to predict','total time'])\n",
        "\n"
      ]
    },
    {
      "cell_type": "markdown",
      "metadata": {
        "id": "C81xT3soFRkQ",
        "tags": []
      },
      "source": [
        "<a id='4_1'></a>\n",
        "## <p style=\"padding: 8px;color:white; display:fill;background-color:#aaaaaa; border-radius:5px; font-size:100%\"> <b>Logistical Classification</b>"
      ]
    },
    {
      "cell_type": "code",
      "execution_count": null,
      "metadata": {
        "colab": {
          "base_uri": "https://localhost:8080/"
        },
        "execution": {
          "iopub.execute_input": "2022-04-18T05:17:38.565715Z",
          "iopub.status.busy": "2022-04-18T05:17:38.565186Z",
          "iopub.status.idle": "2022-04-18T05:17:39.661458Z",
          "shell.execute_reply": "2022-04-18T05:17:39.660596Z",
          "shell.execute_reply.started": "2022-04-18T05:17:38.56567Z"
        },
        "id": "4-RMcCKbFRkQ",
        "outputId": "919a6ff0-2124-4b0c-cc8e-c47fe26bbe5b",
        "trusted": true
      },
      "outputs": [],
      "source": [
        "%%time\n",
        "from sklearn.linear_model import LogisticRegression\n",
        "start = time.time()\n",
        "model = LogisticRegression().fit(X_train,y_train)\n",
        "end_train = time.time()\n",
        "y_predictions = model.predict(X_test) # These are the predictions from the test data.\n",
        "end_predict = time.time()"
      ]
    },
    {
      "cell_type": "code",
      "execution_count": null,
      "metadata": {
        "colab": {
          "base_uri": "https://localhost:8080/"
        },
        "execution": {
          "iopub.execute_input": "2022-04-18T05:17:39.664066Z",
          "iopub.status.busy": "2022-04-18T05:17:39.66339Z",
          "iopub.status.idle": "2022-04-18T05:17:39.724958Z",
          "shell.execute_reply": "2022-04-18T05:17:39.724085Z",
          "shell.execute_reply.started": "2022-04-18T05:17:39.664017Z"
        },
        "id": "r0-r2gfPFRkQ",
        "outputId": "8a33056f-864c-49b4-8f5e-d67f0e8becd3",
        "trusted": true
      },
      "outputs": [],
      "source": [
        "accuracy = accuracy_score(y_test, y_predictions)\n",
        "recall = recall_score(y_test, y_predictions, average='weighted')\n",
        "precision = precision_score(y_test, y_predictions, average='weighted')\n",
        "f1s = f1_score(y_test, y_predictions, average='weighted')\n",
        "\n",
        "print(\"Accuracy: \"+ \"{:.2%}\".format(accuracy))\n",
        "print(\"Recall: \"+ \"{:.2%}\".format(recall))\n",
        "print(\"Precision: \"+ \"{:.2%}\".format(precision))\n",
        "print(\"F1-Score: \"+ \"{:.2%}\".format(f1s))\n",
        "print(\"time to train: \"+ \"{:.2f}\".format(end_train-start)+\" s\")\n",
        "print(\"time to predict: \"+\"{:.2f}\".format(end_predict-end_train)+\" s\")\n",
        "print(\"total: \"+\"{:.2f}\".format(end_predict-start)+\" s\")\n",
        "model_performance.loc['Logistic'] = [accuracy, recall, precision, f1s,end_train-start,end_predict-end_train,end_predict-start]"
      ]
    },
    {
      "cell_type": "code",
      "execution_count": null,
      "metadata": {
        "colab": {
          "base_uri": "https://localhost:8080/",
          "height": 427
        },
        "execution": {
          "iopub.execute_input": "2022-04-18T05:17:39.72741Z",
          "iopub.status.busy": "2022-04-18T05:17:39.726769Z",
          "iopub.status.idle": "2022-04-18T05:17:40.062501Z",
          "shell.execute_reply": "2022-04-18T05:17:40.06171Z",
          "shell.execute_reply.started": "2022-04-18T05:17:39.727349Z"
        },
        "id": "m7_dKoCEFRkR",
        "outputId": "0eacb330-a8d5-4997-a655-8267040a4b14",
        "trusted": true
      },
      "outputs": [],
      "source": [
        "plt.rcParams['figure.figsize']=5,5\n",
        "sns.set_style(\"white\")\n",
        "\n",
        "# Replace plot_confusion_matrix with ConfusionMatrixDisplay\n",
        "cm = confusion_matrix(y_test, model.predict(X_test), labels=model.classes_) # Calculate confusion matrix\n",
        "disp = ConfusionMatrixDisplay(confusion_matrix=cm, display_labels=model.classes_) # Create display object\n",
        "disp.plot(cmap=plt.cm.Blues) # Plot confusion matrix\n",
        "\n",
        "plt.show()"
      ]
    },
    {
      "cell_type": "markdown",
      "metadata": {
        "id": "Q6DVujhTFRkR",
        "tags": []
      },
      "source": [
        "<a id='4_2'></a>\n",
        "## <p style=\"padding: 8px;color:white; display:fill;background-color:#aaaaaa; border-radius:5px; font-size:100%\"> <b>kNN</b>"
      ]
    },
    {
      "cell_type": "code",
      "execution_count": null,
      "metadata": {
        "colab": {
          "base_uri": "https://localhost:8080/"
        },
        "execution": {
          "iopub.execute_input": "2022-04-18T05:17:40.064615Z",
          "iopub.status.busy": "2022-04-18T05:17:40.063786Z",
          "iopub.status.idle": "2022-04-18T05:17:56.450835Z",
          "shell.execute_reply": "2022-04-18T05:17:56.450152Z",
          "shell.execute_reply.started": "2022-04-18T05:17:40.064568Z"
        },
        "id": "cOefohnHFRkR",
        "outputId": "835da6ce-c79d-4454-94de-a9bbef9a23f8",
        "trusted": true
      },
      "outputs": [],
      "source": [
        "%%time\n",
        "from sklearn.neighbors import KNeighborsClassifier\n",
        "start = time.time()\n",
        "model = KNeighborsClassifier(n_neighbors=3).fit(X_train,y_train)\n",
        "end_train = time.time()\n",
        "y_predictions = model.predict(X_test) # These are the predictions from the test data.\n",
        "end_predict = time.time()"
      ]
    },
    {
      "cell_type": "code",
      "execution_count": null,
      "metadata": {
        "colab": {
          "base_uri": "https://localhost:8080/"
        },
        "execution": {
          "iopub.execute_input": "2022-04-18T05:17:56.452797Z",
          "iopub.status.busy": "2022-04-18T05:17:56.452334Z",
          "iopub.status.idle": "2022-04-18T05:17:56.494513Z",
          "shell.execute_reply": "2022-04-18T05:17:56.493933Z",
          "shell.execute_reply.started": "2022-04-18T05:17:56.452753Z"
        },
        "id": "2785x2GhFRkR",
        "outputId": "0c9ef792-9977-4ca4-aaa2-9f788516ea1d",
        "trusted": true
      },
      "outputs": [],
      "source": [
        "accuracy = accuracy_score(y_test, y_predictions)\n",
        "recall = recall_score(y_test, y_predictions, average='weighted')\n",
        "precision = precision_score(y_test, y_predictions, average='weighted')\n",
        "f1s = f1_score(y_test, y_predictions, average='weighted')\n",
        "\n",
        "print(\"Accuracy: \"+ \"{:.2%}\".format(accuracy))\n",
        "print(\"Recall: \"+ \"{:.2%}\".format(recall))\n",
        "print(\"Precision: \"+ \"{:.2%}\".format(precision))\n",
        "print(\"F1-Score: \"+ \"{:.2%}\".format(f1s))\n",
        "print(\"time to train: \"+ \"{:.2f}\".format(end_train-start)+\" s\")\n",
        "print(\"time to predict: \"+\"{:.2f}\".format(end_predict-end_train)+\" s\")\n",
        "print(\"total: \"+\"{:.2f}\".format(end_predict-start)+\" s\")\n",
        "model_performance.loc['kNN'] = [accuracy, recall, precision, f1s,end_train-start,end_predict-end_train,end_predict-start]"
      ]
    },
    {
      "cell_type": "code",
      "execution_count": null,
      "metadata": {
        "colab": {
          "base_uri": "https://localhost:8080/",
          "height": 427
        },
        "execution": {
          "iopub.execute_input": "2022-04-18T05:17:56.498072Z",
          "iopub.status.busy": "2022-04-18T05:17:56.495926Z",
          "iopub.status.idle": "2022-04-18T05:18:01.11909Z",
          "shell.execute_reply": "2022-04-18T05:18:01.116016Z",
          "shell.execute_reply.started": "2022-04-18T05:17:56.498027Z"
        },
        "id": "ddZX6WpiFRkR",
        "outputId": "35d0617e-3a53-4fd7-b794-1c2a402ecf6e",
        "trusted": true
      },
      "outputs": [],
      "source": [
        "plt.rcParams['figure.figsize']=5,5\n",
        "sns.set_style(\"white\")\n",
        "\n",
        "# Replace plot_confusion_matrix with ConfusionMatrixDisplay\n",
        "cm = confusion_matrix(y_test, model.predict(X_test), labels=model.classes_) # Calculate confusion matrix\n",
        "disp = ConfusionMatrixDisplay(confusion_matrix=cm, display_labels=model.classes_) # Create display object\n",
        "disp.plot(cmap=plt.cm.Blues) # Plot confusion matrix\n",
        "\n",
        "plt.show()"
      ]
    },
    {
      "cell_type": "markdown",
      "metadata": {
        "id": "G0N-hBF8FRkR"
      },
      "source": [
        "<a id='4_3'></a>\n",
        "## <p style=\"padding: 8px;color:white; display:fill;background-color:#aaaaaa; border-radius:5px; font-size:100%\"> <b>Decision Tree</b>\n"
      ]
    },
    {
      "cell_type": "code",
      "execution_count": null,
      "metadata": {
        "colab": {
          "base_uri": "https://localhost:8080/"
        },
        "execution": {
          "iopub.status.busy": "2022-04-18T05:18:01.120239Z",
          "iopub.status.idle": "2022-04-18T05:18:01.120683Z",
          "shell.execute_reply": "2022-04-18T05:18:01.120465Z",
          "shell.execute_reply.started": "2022-04-18T05:18:01.120439Z"
        },
        "id": "mmKHxIZLFRkR",
        "outputId": "c0a9849b-2488-4273-c651-42864ee08dbf",
        "trusted": true
      },
      "outputs": [],
      "source": [
        "%%time\n",
        "from sklearn.tree import DecisionTreeClassifier\n",
        "start = time.time()\n",
        "model = DecisionTreeClassifier().fit(X_train,y_train)\n",
        "end_train = time.time()\n",
        "y_predictions = model.predict(X_test) # These are the predictions from the test data.\n",
        "end_predict = time.time()"
      ]
    },
    {
      "cell_type": "code",
      "execution_count": null,
      "metadata": {
        "colab": {
          "base_uri": "https://localhost:8080/"
        },
        "execution": {
          "iopub.status.busy": "2022-04-18T05:18:01.122167Z",
          "iopub.status.idle": "2022-04-18T05:18:01.1226Z",
          "shell.execute_reply": "2022-04-18T05:18:01.122396Z",
          "shell.execute_reply.started": "2022-04-18T05:18:01.122374Z"
        },
        "id": "WG4RcOzNFRkR",
        "outputId": "066ac305-1aae-4036-af6f-dbde46d6c777",
        "trusted": true
      },
      "outputs": [],
      "source": [
        "accuracy = accuracy_score(y_test, y_predictions)\n",
        "recall = recall_score(y_test, y_predictions, average='weighted')\n",
        "precision = precision_score(y_test, y_predictions, average='weighted')\n",
        "f1s = f1_score(y_test, y_predictions, average='weighted')\n",
        "\n",
        "print(\"Accuracy: \"+ \"{:.2%}\".format(accuracy))\n",
        "print(\"Recall: \"+ \"{:.2%}\".format(recall))\n",
        "print(\"Precision: \"+ \"{:.2%}\".format(precision))\n",
        "print(\"F1-Score: \"+ \"{:.2%}\".format(f1s))\n",
        "print(\"time to train: \"+ \"{:.2f}\".format(end_train-start)+\" s\")\n",
        "print(\"time to predict: \"+\"{:.2f}\".format(end_predict-end_train)+\" s\")\n",
        "print(\"total: \"+\"{:.2f}\".format(end_predict-start)+\" s\")\n",
        "model_performance.loc['Decision Tree'] = [accuracy, recall, precision, f1s,end_train-start,end_predict-end_train,end_predict-start]"
      ]
    },
    {
      "cell_type": "code",
      "execution_count": null,
      "metadata": {
        "colab": {
          "base_uri": "https://localhost:8080/",
          "height": 427
        },
        "execution": {
          "iopub.status.busy": "2022-04-18T05:18:01.124178Z",
          "iopub.status.idle": "2022-04-18T05:18:01.124645Z",
          "shell.execute_reply": "2022-04-18T05:18:01.124419Z",
          "shell.execute_reply.started": "2022-04-18T05:18:01.124393Z"
        },
        "id": "BrTrNu8TFRkS",
        "outputId": "c3419949-0d4d-48a3-b30f-2d19ad8cb73b",
        "tags": [],
        "trusted": true
      },
      "outputs": [],
      "source": [
        "plt.rcParams['figure.figsize']=5,5\n",
        "sns.set_style(\"white\")\n",
        "\n",
        "# Replace plot_confusion_matrix with ConfusionMatrixDisplay\n",
        "cm = confusion_matrix(y_test, model.predict(X_test), labels=model.classes_) # Calculate confusion matrix\n",
        "disp = ConfusionMatrixDisplay(confusion_matrix=cm, display_labels=model.classes_) # Create display object\n",
        "disp.plot(cmap=plt.cm.Blues) # Plot confusion matrix\n",
        "\n",
        "plt.show()"
      ]
    },
    {
      "cell_type": "code",
      "execution_count": null,
      "metadata": {
        "colab": {
          "base_uri": "https://localhost:8080/",
          "height": 830
        },
        "execution": {
          "iopub.status.busy": "2022-04-18T05:18:01.125913Z",
          "iopub.status.idle": "2022-04-18T05:18:01.126391Z",
          "shell.execute_reply": "2022-04-18T05:18:01.126155Z",
          "shell.execute_reply.started": "2022-04-18T05:18:01.126131Z"
        },
        "id": "ErqxJLtsFRkS",
        "outputId": "8d46c628-988e-4fa0-c6fb-faa247f012ef",
        "trusted": true
      },
      "outputs": [],
      "source": [
        "plt.rcParams['figure.figsize']=10,10\n",
        "sns.set_style(\"white\")\n",
        "feat_importances = pd.Series(model.feature_importances_, index=feature_names)\n",
        "feat_importances = feat_importances.groupby(level=0).mean()\n",
        "feat_importances.nlargest(20).plot(kind='barh').invert_yaxis()\n",
        "sns.despine()\n",
        "plt.show()"
      ]
    },
    {
      "cell_type": "markdown",
      "metadata": {
        "id": "4ts4qjjtFRkS"
      },
      "source": [
        "<a id='4_4'></a>\n",
        "## <p style=\"padding: 8px;color:white; display:fill;background-color:#aaaaaa; border-radius:5px; font-size:100%\"> <b>Extra Trees</b>"
      ]
    },
    {
      "cell_type": "code",
      "execution_count": null,
      "metadata": {
        "colab": {
          "base_uri": "https://localhost:8080/"
        },
        "execution": {
          "iopub.status.busy": "2022-04-18T05:18:01.127753Z",
          "iopub.status.idle": "2022-04-18T05:18:01.128204Z",
          "shell.execute_reply": "2022-04-18T05:18:01.127983Z",
          "shell.execute_reply.started": "2022-04-18T05:18:01.12796Z"
        },
        "id": "XY4Q1P6JFRkS",
        "outputId": "23a4ebc7-3953-4eaf-974d-f16f694a45ef",
        "trusted": true
      },
      "outputs": [],
      "source": [
        "%%time\n",
        "from sklearn.ensemble import ExtraTreesClassifier\n",
        "start = time.time()\n",
        "model = ExtraTreesClassifier(random_state=0,n_jobs=-1).fit(X_train,y_train)\n",
        "end_train = time.time()\n",
        "y_predictions = model.predict(X_test) # These are the predictions from the test data.\n",
        "end_predict = time.time()"
      ]
    },
    {
      "cell_type": "code",
      "execution_count": null,
      "metadata": {
        "colab": {
          "base_uri": "https://localhost:8080/"
        },
        "execution": {
          "iopub.status.busy": "2022-04-18T05:18:01.129947Z",
          "iopub.status.idle": "2022-04-18T05:18:01.13059Z",
          "shell.execute_reply": "2022-04-18T05:18:01.130337Z",
          "shell.execute_reply.started": "2022-04-18T05:18:01.13031Z"
        },
        "id": "fbMpQUa-FRkS",
        "outputId": "f1679562-76e1-4ad3-88a6-cecdfc1c6a7f",
        "trusted": true
      },
      "outputs": [],
      "source": [
        "accuracy = accuracy_score(y_test, y_predictions)\n",
        "recall = recall_score(y_test, y_predictions, average='weighted')\n",
        "precision = precision_score(y_test, y_predictions, average='weighted')\n",
        "f1s = f1_score(y_test, y_predictions, average='weighted')\n",
        "\n",
        "print(\"Accuracy: \"+ \"{:.2%}\".format(accuracy))\n",
        "print(\"Recall: \"+ \"{:.2%}\".format(recall))\n",
        "print(\"Precision: \"+ \"{:.2%}\".format(precision))\n",
        "print(\"F1-Score: \"+ \"{:.2%}\".format(f1s))\n",
        "print(\"time to train: \"+ \"{:.2f}\".format(end_train-start)+\" s\")\n",
        "print(\"time to predict: \"+\"{:.2f}\".format(end_predict-end_train)+\" s\")\n",
        "print(\"total: \"+\"{:.2f}\".format(end_predict-start)+\" s\")\n",
        "model_performance.loc['Extra Trees'] = [accuracy, recall, precision, f1s,end_train-start,end_predict-end_train,end_predict-start]"
      ]
    },
    {
      "cell_type": "code",
      "execution_count": null,
      "metadata": {
        "colab": {
          "base_uri": "https://localhost:8080/",
          "height": 427
        },
        "execution": {
          "iopub.status.busy": "2022-04-18T05:18:01.132246Z",
          "iopub.status.idle": "2022-04-18T05:18:01.132811Z",
          "shell.execute_reply": "2022-04-18T05:18:01.132577Z",
          "shell.execute_reply.started": "2022-04-18T05:18:01.13255Z"
        },
        "id": "Pqgp0pZgFRkS",
        "outputId": "e1031653-2af0-474a-aabc-115cbc3aa182",
        "trusted": true
      },
      "outputs": [],
      "source": [
        "plt.rcParams['figure.figsize']=5,5\n",
        "sns.set_style(\"white\")\n",
        "\n",
        "cm = confusion_matrix(y_test, model.predict(X_test), labels=model.classes_) # Calculate confusion matrix\n",
        "disp = ConfusionMatrixDisplay(confusion_matrix=cm, display_labels=model.classes_) # Create display object\n",
        "disp.plot(cmap=plt.cm.Blues) # Plot confusion matrix\n",
        "\n",
        "plt.show()"
      ]
    },
    {
      "cell_type": "code",
      "execution_count": null,
      "metadata": {
        "colab": {
          "base_uri": "https://localhost:8080/",
          "height": 830
        },
        "execution": {
          "iopub.status.busy": "2022-04-18T05:18:01.134307Z",
          "iopub.status.idle": "2022-04-18T05:18:01.135074Z",
          "shell.execute_reply": "2022-04-18T05:18:01.134799Z",
          "shell.execute_reply.started": "2022-04-18T05:18:01.134758Z"
        },
        "id": "GjXhqzksFRkS",
        "outputId": "7accbd6b-1ce6-4a20-be75-63a378bda409",
        "trusted": true
      },
      "outputs": [],
      "source": [
        "plt.rcParams['figure.figsize']=10,10\n",
        "sns.set_style(\"white\")\n",
        "sns.despine()\n",
        "feat_importances = pd.Series(model.feature_importances_, index=feature_names)\n",
        "feat_importances = feat_importances.groupby(level=0).mean()\n",
        "feat_importances.nlargest(20).plot(kind='barh').invert_yaxis()\n",
        "sns.despine()\n",
        "plt.show()"
      ]
    },
    {
      "cell_type": "markdown",
      "metadata": {
        "id": "nk-sbjslFRkS"
      },
      "source": [
        "<a id='4_5'></a>\n",
        "## <p style=\"padding: 8px;color:white; display:fill;background-color:#aaaaaa; border-radius:5px; font-size:100%\"> <b>Random Forest</b>"
      ]
    },
    {
      "cell_type": "code",
      "execution_count": null,
      "metadata": {
        "colab": {
          "base_uri": "https://localhost:8080/"
        },
        "execution": {
          "iopub.status.busy": "2022-04-18T05:18:01.136414Z",
          "iopub.status.idle": "2022-04-18T05:18:01.137171Z",
          "shell.execute_reply": "2022-04-18T05:18:01.136915Z",
          "shell.execute_reply.started": "2022-04-18T05:18:01.136888Z"
        },
        "id": "OdA1sKElFRkS",
        "outputId": "0a015fa7-35ee-4fc6-b918-c18b93bab85c",
        "trusted": true
      },
      "outputs": [],
      "source": [
        "%%time\n",
        "from sklearn.ensemble import RandomForestClassifier\n",
        "start = time.time()\n",
        "model = RandomForestClassifier(n_estimators = 100,n_jobs=-1,random_state=0,bootstrap=True,).fit(X_train,y_train)\n",
        "end_train = time.time()\n",
        "y_predictions = model.predict(X_test) # These are the predictions from the test data.\n",
        "end_predict = time.time()"
      ]
    },
    {
      "cell_type": "code",
      "execution_count": null,
      "metadata": {
        "colab": {
          "base_uri": "https://localhost:8080/"
        },
        "execution": {
          "iopub.status.busy": "2022-04-18T05:18:01.138338Z",
          "iopub.status.idle": "2022-04-18T05:18:01.138632Z",
          "shell.execute_reply": "2022-04-18T05:18:01.138494Z",
          "shell.execute_reply.started": "2022-04-18T05:18:01.138479Z"
        },
        "id": "Q0ud8bdNFRkS",
        "outputId": "e394f44d-8a13-4fc8-80a9-9e778526f19f",
        "trusted": true
      },
      "outputs": [],
      "source": [
        "accuracy = accuracy_score(y_test, y_predictions)\n",
        "recall = recall_score(y_test, y_predictions, average='weighted')\n",
        "precision = precision_score(y_test, y_predictions, average='weighted')\n",
        "f1s = f1_score(y_test, y_predictions, average='weighted')\n",
        "\n",
        "print(\"Accuracy: \"+ \"{:.2%}\".format(accuracy))\n",
        "print(\"Recall: \"+ \"{:.2%}\".format(recall))\n",
        "print(\"Precision: \"+ \"{:.2%}\".format(precision))\n",
        "print(\"F1-Score: \"+ \"{:.2%}\".format(f1s))\n",
        "print(\"time to train: \"+ \"{:.2f}\".format(end_train-start)+\" s\")\n",
        "print(\"time to predict: \"+\"{:.2f}\".format(end_predict-end_train)+\" s\")\n",
        "print(\"total: \"+\"{:.2f}\".format(end_predict-start)+\" s\")\n",
        "model_performance.loc['Random Forest'] = [accuracy, recall, precision, f1s,end_train-start,end_predict-end_train,end_predict-start]"
      ]
    },
    {
      "cell_type": "code",
      "execution_count": null,
      "metadata": {
        "colab": {
          "base_uri": "https://localhost:8080/",
          "height": 427
        },
        "execution": {
          "iopub.status.busy": "2022-04-18T05:18:01.139586Z",
          "iopub.status.idle": "2022-04-18T05:18:01.139911Z",
          "shell.execute_reply": "2022-04-18T05:18:01.139747Z",
          "shell.execute_reply.started": "2022-04-18T05:18:01.139732Z"
        },
        "id": "jcyl5KY7FRkT",
        "outputId": "e7485ec8-f2fd-4e8c-bd7e-6db05108e98e",
        "trusted": true
      },
      "outputs": [],
      "source": [
        "plt.rcParams['figure.figsize']=5,5\n",
        "sns.set_style(\"white\")\n",
        "cm = confusion_matrix(y_test, model.predict(X_test), labels=model.classes_) # Calculate confusion matrix\n",
        "disp = ConfusionMatrixDisplay(confusion_matrix=cm, display_labels=model.classes_) # Create display object\n",
        "disp.plot(cmap=plt.cm.Blues) # Plot confusion matrix\n",
        "\n",
        "plt.show()"
      ]
    },
    {
      "cell_type": "code",
      "execution_count": null,
      "metadata": {
        "colab": {
          "base_uri": "https://localhost:8080/",
          "height": 830
        },
        "execution": {
          "iopub.status.busy": "2022-04-18T05:18:01.140597Z",
          "iopub.status.idle": "2022-04-18T05:18:01.140891Z",
          "shell.execute_reply": "2022-04-18T05:18:01.140745Z",
          "shell.execute_reply.started": "2022-04-18T05:18:01.140731Z"
        },
        "id": "L1lyJ7XJFRkT",
        "outputId": "0a17e9e6-be16-44e6-bde2-b4235a5c984c",
        "trusted": true
      },
      "outputs": [],
      "source": [
        "plt.rcParams['figure.figsize']=10,10\n",
        "sns.set_style(\"white\")\n",
        "feat_importances = pd.Series(model.feature_importances_, index=feature_names)\n",
        "feat_importances = feat_importances.groupby(level=0).mean()\n",
        "feat_importances.nlargest(20).plot(kind='barh').invert_yaxis()\n",
        "sns.despine()\n",
        "plt.show()"
      ]
    },
    {
      "cell_type": "markdown",
      "metadata": {
        "id": "RbdrjkCzFRkT"
      },
      "source": [
        "<a id='4_6'></a>\n",
        "## <p style=\"padding: 8px;color:white; display:fill;background-color:#aaaaaa; border-radius:5px; font-size:100%\"> <b>Gradient Boosting Classifier</b>"
      ]
    },
    {
      "cell_type": "code",
      "execution_count": null,
      "metadata": {
        "colab": {
          "base_uri": "https://localhost:8080/"
        },
        "execution": {
          "iopub.status.busy": "2022-04-18T05:18:01.142314Z",
          "iopub.status.idle": "2022-04-18T05:18:01.142844Z",
          "shell.execute_reply": "2022-04-18T05:18:01.142684Z",
          "shell.execute_reply.started": "2022-04-18T05:18:01.142664Z"
        },
        "id": "08xlJ2RJFRkT",
        "outputId": "9e10db0f-d98d-4045-98ba-fbd588a95173",
        "trusted": true
      },
      "outputs": [],
      "source": [
        "%%time\n",
        "from sklearn.ensemble import GradientBoostingClassifier\n",
        "start = time.time()\n",
        "model = GradientBoostingClassifier().fit(X_train,y_train)\n",
        "end_train = time.time()\n",
        "y_predictions = model.predict(X_test) # These are the predictions from the test data.\n",
        "end_predict = time.time()"
      ]
    },
    {
      "cell_type": "code",
      "execution_count": null,
      "metadata": {
        "colab": {
          "base_uri": "https://localhost:8080/"
        },
        "execution": {
          "iopub.status.busy": "2022-04-18T05:18:01.143743Z",
          "iopub.status.idle": "2022-04-18T05:18:01.144357Z",
          "shell.execute_reply": "2022-04-18T05:18:01.144182Z",
          "shell.execute_reply.started": "2022-04-18T05:18:01.14416Z"
        },
        "id": "O0fT0HZJFRkT",
        "outputId": "1631a621-9e10-4699-e650-b7ce75d56990",
        "trusted": true
      },
      "outputs": [],
      "source": [
        "accuracy = accuracy_score(y_test, y_predictions)\n",
        "recall = recall_score(y_test, y_predictions, average='weighted')\n",
        "precision = precision_score(y_test, y_predictions, average='weighted')\n",
        "f1s = f1_score(y_test, y_predictions, average='weighted')\n",
        "\n",
        "print(\"Accuracy: \"+ \"{:.2%}\".format(accuracy))\n",
        "print(\"Recall: \"+ \"{:.2%}\".format(recall))\n",
        "print(\"Precision: \"+ \"{:.2%}\".format(precision))\n",
        "print(\"F1-Score: \"+ \"{:.2%}\".format(f1s))\n",
        "print(\"time to train: \"+ \"{:.2f}\".format(end_train-start)+\" s\")\n",
        "print(\"time to predict: \"+\"{:.2f}\".format(end_predict-end_train)+\" s\")\n",
        "print(\"total: \"+\"{:.2f}\".format(end_predict-start)+\" s\")\n",
        "model_performance.loc['Gradient Boosting Classifier'] = [accuracy, recall, precision, f1s,end_train-start,end_predict-end_train,end_predict-start]"
      ]
    },
    {
      "cell_type": "code",
      "execution_count": null,
      "metadata": {
        "colab": {
          "base_uri": "https://localhost:8080/",
          "height": 427
        },
        "execution": {
          "iopub.status.busy": "2022-04-18T05:18:01.145221Z",
          "iopub.status.idle": "2022-04-18T05:18:01.145854Z",
          "shell.execute_reply": "2022-04-18T05:18:01.145692Z",
          "shell.execute_reply.started": "2022-04-18T05:18:01.145673Z"
        },
        "id": "NCw58cK8FRkT",
        "outputId": "37b74e21-4030-4fd2-9bef-c38f61a3587b",
        "trusted": true
      },
      "outputs": [],
      "source": [
        "plt.rcParams['figure.figsize']=5,5\n",
        "sns.set_style(\"white\")\n",
        "cm = confusion_matrix(y_test, model.predict(X_test), labels=model.classes_) # Calculate confusion matrix\n",
        "disp = ConfusionMatrixDisplay(confusion_matrix=cm, display_labels=model.classes_) # Create display object\n",
        "disp.plot(cmap=plt.cm.Blues) # Plot confusion matrix\n",
        "\n",
        "plt.show()"
      ]
    },
    {
      "cell_type": "code",
      "execution_count": null,
      "metadata": {
        "colab": {
          "base_uri": "https://localhost:8080/",
          "height": 830
        },
        "execution": {
          "iopub.status.busy": "2022-04-18T05:18:01.146829Z",
          "iopub.status.idle": "2022-04-18T05:18:01.147488Z",
          "shell.execute_reply": "2022-04-18T05:18:01.147322Z",
          "shell.execute_reply.started": "2022-04-18T05:18:01.147301Z"
        },
        "id": "3Y-IyxzSFRkT",
        "outputId": "e56d6b4f-d94b-48a6-e583-471dc0756c35",
        "trusted": true
      },
      "outputs": [],
      "source": [
        "plt.rcParams['figure.figsize']=10,10\n",
        "sns.set_style(\"white\")\n",
        "feat_importances = pd.Series(model.feature_importances_, index=feature_names)\n",
        "feat_importances = feat_importances.groupby(level=0).mean()\n",
        "feat_importances.nlargest(20).plot(kind='barh').invert_yaxis()\n",
        "sns.despine()\n",
        "plt.show()"
      ]
    },
    {
      "cell_type": "markdown",
      "metadata": {
        "id": "VFggJuLYFRkT"
      },
      "source": [
        "<a id='4_7'></a>\n",
        "## <p style=\"padding: 8px;color:white; display:fill;background-color:#aaaaaa; border-radius:5px; font-size:100%\"> <b>Neural Network MLP</b>"
      ]
    },
    {
      "cell_type": "code",
      "execution_count": null,
      "metadata": {
        "colab": {
          "base_uri": "https://localhost:8080/"
        },
        "execution": {
          "iopub.status.busy": "2022-04-18T05:18:01.148333Z",
          "iopub.status.idle": "2022-04-18T05:18:01.148978Z",
          "shell.execute_reply": "2022-04-18T05:18:01.148787Z",
          "shell.execute_reply.started": "2022-04-18T05:18:01.148767Z"
        },
        "id": "xJOt7mmtFRkU",
        "outputId": "6299e1ae-d2e6-413e-cb4c-4e8f92ea1327",
        "trusted": true
      },
      "outputs": [],
      "source": [
        "%%time\n",
        "from sklearn.neural_network import MLPClassifier\n",
        "start = time.time()\n",
        "model = MLPClassifier(hidden_layer_sizes = (20,20,),\n",
        "                      activation='relu',\n",
        "                      solver='adam',\n",
        "                      batch_size=2000,\n",
        "                      verbose=0).fit(X_train,y_train)\n",
        "end_train = time.time()\n",
        "y_predictions = model.predict(X_test) # These are the predictions from the test data.\n",
        "end_predict = time.time()"
      ]
    },
    {
      "cell_type": "code",
      "execution_count": null,
      "metadata": {
        "colab": {
          "base_uri": "https://localhost:8080/"
        },
        "execution": {
          "iopub.status.busy": "2022-04-18T05:18:01.149979Z",
          "iopub.status.idle": "2022-04-18T05:18:01.150462Z",
          "shell.execute_reply": "2022-04-18T05:18:01.150317Z",
          "shell.execute_reply.started": "2022-04-18T05:18:01.150299Z"
        },
        "id": "vUvlYWGSFRkU",
        "outputId": "adb53483-e28e-4a54-cff2-5c1bf70e8d9a",
        "trusted": true
      },
      "outputs": [],
      "source": [
        "accuracy = accuracy_score(y_test, y_predictions)\n",
        "recall = recall_score(y_test, y_predictions, average='weighted')\n",
        "precision = precision_score(y_test, y_predictions, average='weighted')\n",
        "f1s = f1_score(y_test, y_predictions, average='weighted')\n",
        "\n",
        "print(\"Accuracy: \"+ \"{:.2%}\".format(accuracy))\n",
        "print(\"Recall: \"+ \"{:.2%}\".format(recall))\n",
        "print(\"Precision: \"+ \"{:.2%}\".format(precision))\n",
        "print(\"F1-Score: \"+ \"{:.2%}\".format(f1s))\n",
        "print(\"time to train: \"+ \"{:.2f}\".format(end_train-start)+\" s\")\n",
        "print(\"time to predict: \"+\"{:.2f}\".format(end_predict-end_train)+\" s\")\n",
        "print(\"total: \"+\"{:.2f}\".format(end_predict-start)+\" s\")\n",
        "model_performance.loc['MLP'] = [accuracy, recall, precision, f1s,end_train-start,end_predict-end_train,end_predict-start]"
      ]
    },
    {
      "cell_type": "code",
      "execution_count": null,
      "metadata": {
        "colab": {
          "base_uri": "https://localhost:8080/",
          "height": 427
        },
        "execution": {
          "iopub.status.busy": "2022-04-18T05:18:01.151301Z",
          "iopub.status.idle": "2022-04-18T05:18:01.151883Z",
          "shell.execute_reply": "2022-04-18T05:18:01.151702Z",
          "shell.execute_reply.started": "2022-04-18T05:18:01.151683Z"
        },
        "id": "5BB_7JcRFRkU",
        "outputId": "2a06ad8f-9ada-43ac-ab74-c8a455d5f2c2",
        "trusted": true
      },
      "outputs": [],
      "source": [
        "plt.rcParams['figure.figsize']=5,5\n",
        "sns.set_style(\"white\")\n",
        "cm = confusion_matrix(y_test, model.predict(X_test), labels=model.classes_) # Calculate confusion matrix\n",
        "disp = ConfusionMatrixDisplay(confusion_matrix=cm, display_labels=model.classes_) # Create display object\n",
        "disp.plot(cmap=plt.cm.Blues) # Plot confusion matrix\n",
        "\n",
        "plt.show()"
      ]
    },
    {
      "cell_type": "code",
      "execution_count": null,
      "metadata": {
        "colab": {
          "base_uri": "https://localhost:8080/",
          "height": 269
        },
        "execution": {
          "iopub.status.busy": "2022-04-18T05:18:01.152821Z",
          "iopub.status.idle": "2022-04-18T05:18:01.153406Z",
          "shell.execute_reply": "2022-04-18T05:18:01.153244Z",
          "shell.execute_reply.started": "2022-04-18T05:18:01.153224Z"
        },
        "id": "3ZLCETsCFRkU",
        "outputId": "0cf3767a-f4ab-444b-8281-ae4c4a582d61",
        "trusted": true
      },
      "outputs": [],
      "source": [
        "model_performance.style.background_gradient(cmap='coolwarm').format({'Accuracy': '{:.2%}',\n",
        "                                                                     'Precision': '{:.2%}',\n",
        "                                                                     'Recall': '{:.2%}',\n",
        "                                                                     'F1-Score': '{:.2%}',\n",
        "                                                                     'time to train':'{:.1f}',\n",
        "                                                                     'time to predict':'{:.1f}',\n",
        "                                                                     'total time':'{:.1f}',\n",
        "                                                                     })"
      ]
    },
    {
      "cell_type": "markdown",
      "metadata": {
        "id": "kbHr1Iw4FRkU"
      },
      "source": [
        "<a id='4_8'></a>\n",
        "## <p style=\"padding: 8px;color:white; display:fill;background-color:#aaaaaa; border-radius:5px; font-size:100%\"> <b>Neural Network MLP (Keras)</b>"
      ]
    },
    {
      "cell_type": "code",
      "execution_count": null,
      "metadata": {
        "colab": {
          "base_uri": "https://localhost:8080/"
        },
        "execution": {
          "iopub.status.busy": "2022-04-18T05:18:01.15463Z",
          "iopub.status.idle": "2022-04-18T05:18:01.155416Z",
          "shell.execute_reply": "2022-04-18T05:18:01.155231Z",
          "shell.execute_reply.started": "2022-04-18T05:18:01.155208Z"
        },
        "id": "r7gxmfXPFRkU",
        "outputId": "e8c3e920-a216-4508-f163-76c491fc4aef",
        "trusted": true
      },
      "outputs": [],
      "source": [
        "#Import libraries that will allow you to use keras\n",
        "from tensorflow.keras.models import Sequential\n",
        "from tensorflow.keras.layers import Dense, LSTM, GRU\n",
        "from keras import metrics\n",
        "!pip install keras-metrics #It doesn't come with Google Colab\n",
        "import keras_metrics as km #when compiling\n",
        "import keras\n",
        "import numpy as np\n",
        "from numpy import array"
      ]
    },
    {
      "cell_type": "code",
      "execution_count": null,
      "metadata": {
        "colab": {
          "base_uri": "https://localhost:8080/"
        },
        "execution": {
          "iopub.status.busy": "2022-04-18T05:18:01.156515Z",
          "iopub.status.idle": "2022-04-18T05:18:01.157236Z",
          "shell.execute_reply": "2022-04-18T05:18:01.157074Z",
          "shell.execute_reply.started": "2022-04-18T05:18:01.157054Z"
        },
        "id": "VrEXqOHOFRkU",
        "outputId": "99e5459c-ca7e-42f3-ca5d-0dab079745e8",
        "trusted": true
      },
      "outputs": [],
      "source": [
        "from tensorflow.keras import backend as K\n",
        "import tensorflow as tf # Import tensorflow\n",
        "\n",
        "def recall_m(y_true, y_pred):\n",
        "    y_true = tf.cast(y_true, dtype=tf.float32) # Cast y_true to float32\n",
        "    true_positives = K.sum(K.round(K.clip(y_true * y_pred, 0, 1)))\n",
        "    possible_positives = K.sum(K.round(K.clip(y_true, 0, 1)))\n",
        "    recall = true_positives / (possible_positives + K.epsilon())\n",
        "    return recall\n",
        "\n",
        "def precision_m(y_true, y_pred):\n",
        "    y_true = tf.cast(y_true, dtype=tf.float32) # Cast y_true to float32\n",
        "    true_positives = K.sum(K.round(K.clip(y_true * y_pred, 0, 1)))\n",
        "    predicted_positives = K.sum(K.round(K.clip(y_pred, 0, 1)))\n",
        "    precision = true_positives / (predicted_positives + K.epsilon())\n",
        "    return precision\n",
        "\n",
        "def f1_m(y_true, y_pred):\n",
        "    y_true = tf.cast(y_true, dtype=tf.float32) # Cast y_true to float32\n",
        "    precision = precision_m(y_true, y_pred)\n",
        "    recall = recall_m(y_true, y_pred)\n",
        "    return 2*((precision*recall)/(precision+recall+K.epsilon()))\n",
        "\n",
        "#Build the feed forward neural network model\n",
        "def build_model():\n",
        "    model = Sequential()\n",
        "    model.add(Dense(20, input_dim=56, activation='relu'))\n",
        "    model.add(Dense(20, activation='relu'))\n",
        "    model.add(Dense(20, activation='softmax')) #for multiclass classification\n",
        "    #Compile the model\n",
        "    model.compile(loss='sparse_categorical_crossentropy', optimizer='adam',\n",
        "                  metrics=['accuracy',f1_m,precision_m, recall_m]\n",
        "                 )\n",
        "    return model\n",
        "\n",
        "#institate the model\n",
        "model = build_model()\n",
        "\n",
        "#fit the model\n",
        "start = time.time()\n",
        "model.fit(X_train, y_train, epochs=200, batch_size=2000,verbose=2)\n",
        "end_train = time.time()"
      ]
    },
    {
      "cell_type": "code",
      "execution_count": null,
      "metadata": {
        "colab": {
          "base_uri": "https://localhost:8080/"
        },
        "execution": {
          "iopub.status.busy": "2022-04-18T05:18:01.16Z",
          "iopub.status.idle": "2022-04-18T05:18:01.160781Z",
          "shell.execute_reply": "2022-04-18T05:18:01.160587Z",
          "shell.execute_reply.started": "2022-04-18T05:18:01.160563Z"
        },
        "id": "D5gGDmDXFRkV",
        "outputId": "6cac6568-5b9c-4eb2-cd37-26db17186bdb",
        "trusted": true
      },
      "outputs": [],
      "source": [
        "#Evaluate the neural network\n",
        "loss, accuracy, f1s, precision, recall = model.evaluate(X_test, y_test)\n",
        "end_predict = time.time()\n",
        "model_performance.loc['MLP (Keras)'] = [accuracy, accuracy, accuracy, accuracy,end_train-start,end_predict-end_train,end_predict-start]"
      ]
    },
    {
      "cell_type": "markdown",
      "metadata": {
        "id": "XJ-9QPp7FRkV"
      },
      "source": [
        "<a id='4_9'></a>\n",
        "## <p style=\"padding: 8px;color:white; display:fill;background-color:#aaaaaa; border-radius:5px; font-size:100%\"> <b>GRU (Keras)</b>"
      ]
    },
    {
      "cell_type": "code",
      "execution_count": null,
      "metadata": {
        "colab": {
          "base_uri": "https://localhost:8080/"
        },
        "execution": {
          "iopub.status.busy": "2022-04-18T05:18:01.161784Z",
          "iopub.status.idle": "2022-04-18T05:18:01.162118Z",
          "shell.execute_reply": "2022-04-18T05:18:01.16197Z",
          "shell.execute_reply.started": "2022-04-18T05:18:01.161953Z"
        },
        "id": "S__CIk_eFRkV",
        "outputId": "a1d978e2-0506-4c4c-9bd6-c878e29cc686",
        "trusted": true
      },
      "outputs": [],
      "source": [
        "#Build the neural network model\n",
        "def build_model():\n",
        "    model = Sequential()\n",
        "    model.add(GRU(20, return_sequences=True,input_shape=(1,56)))\n",
        "    model.add(GRU(20, return_sequences=True))\n",
        "    model.add(Dense(10, activation='softmax')) #for multiclass classification\n",
        "    #Compile the model\n",
        "    model.compile(loss='sparse_categorical_crossentropy', optimizer='adam',\n",
        "                  # metrics=['accuracy',f1_m,precision_m, recall_m]\n",
        "                  metrics=['accuracy']\n",
        "                 )\n",
        "    return model\n",
        "\n",
        "#The GRU input layer must be 3D.\n",
        "#The meaning of the 3 input dimensions are: samples, time steps, and features.\n",
        "#reshape input data\n",
        "X_train_array = array(X_train) #array has been declared in the previous cell\n",
        "print(len(X_train_array))\n",
        "X_train_reshaped = X_train_array.reshape(X_train_array.shape[0],1,56)\n",
        "\n",
        "#reshape output data\n",
        "X_test_array=  array(X_test)\n",
        "X_test_reshaped = X_test_array.reshape(X_test_array.shape[0],1,56)\n",
        "\n",
        "\n",
        "#institate the model\n",
        "model = build_model()\n",
        "\n",
        "start = time.time()\n",
        "#fit the model\n",
        "model.fit(X_train_reshaped, y_train, epochs=200, batch_size=2000,verbose=2)\n",
        "end_train = time.time()"
      ]
    },
    {
      "cell_type": "code",
      "execution_count": null,
      "metadata": {
        "colab": {
          "base_uri": "https://localhost:8080/"
        },
        "execution": {
          "iopub.status.busy": "2022-04-18T05:18:01.163173Z",
          "iopub.status.idle": "2022-04-18T05:18:01.163462Z",
          "shell.execute_reply": "2022-04-18T05:18:01.163327Z",
          "shell.execute_reply.started": "2022-04-18T05:18:01.163311Z"
        },
        "id": "yKWowmPqFRkV",
        "outputId": "ee5407e6-65d7-4624-caf3-6ef7651c3eb5",
        "trusted": true
      },
      "outputs": [],
      "source": [
        "loss, accuracy = model.evaluate(X_test_reshaped, y_test)\n",
        "# loss, accuracy, f1s, precision, recall = model.evaluate(X_test_reshaped, y_test)\n",
        "end_predict = time.time()\n",
        "model_performance.loc['GRU (Keras)'] = [accuracy, accuracy, accuracy, accuracy, end_train-start,end_predict-end_train,end_predict-start]"
      ]
    },
    {
      "cell_type": "code",
      "execution_count": null,
      "metadata": {
        "colab": {
          "base_uri": "https://localhost:8080/"
        },
        "execution": {
          "iopub.status.busy": "2022-04-18T05:18:01.164507Z",
          "iopub.status.idle": "2022-04-18T05:18:01.164815Z",
          "shell.execute_reply": "2022-04-18T05:18:01.164675Z",
          "shell.execute_reply.started": "2022-04-18T05:18:01.164659Z"
        },
        "id": "cc3HIZSVFRkV",
        "outputId": "653fb6f0-6e30-423f-b0c1-6140edb54f0b",
        "trusted": true
      },
      "outputs": [],
      "source": [
        "np.shape(X)"
      ]
    },
    {
      "cell_type": "markdown",
      "metadata": {
        "id": "YsstjKOkFRkV"
      },
      "source": [
        "<a id='4_10'></a>\n",
        "## <p style=\"padding: 8px;color:white; display:fill;background-color:#aaaaaa; border-radius:5px; font-size:100%\"> <b>LSTM (Keras)</b>"
      ]
    },
    {
      "cell_type": "code",
      "execution_count": null,
      "metadata": {
        "colab": {
          "base_uri": "https://localhost:8080/"
        },
        "execution": {
          "iopub.status.busy": "2022-04-18T05:18:01.165915Z",
          "iopub.status.idle": "2022-04-18T05:18:01.166226Z",
          "shell.execute_reply": "2022-04-18T05:18:01.166089Z",
          "shell.execute_reply.started": "2022-04-18T05:18:01.166073Z"
        },
        "id": "9obc5YInFRkV",
        "outputId": "60cfa777-f99f-4974-abd6-6bc38788ac9e",
        "trusted": true
      },
      "outputs": [],
      "source": [
        "def build_model():\n",
        "    model = Sequential()\n",
        "    model.add(LSTM(20, return_sequences=True,input_shape=(1,56)))\n",
        "    model.add(LSTM(20, return_sequences=True))\n",
        "    model.add(Dense(10, activation='softmax')) #for multiclass classification\n",
        "    #Compile the model\n",
        "    model.compile(loss='sparse_categorical_crossentropy', optimizer='adam',\n",
        "                  # metrics=['accuracy',f1_m,precision_m, recall_m]\n",
        "                  metrics=['accuracy']\n",
        "                 )\n",
        "    return model\n",
        "\n",
        "#The LSTM input layer must be 3D.\n",
        "#The meaning of the 3 input dimensions are: samples, time steps, and features.\n",
        "#reshape input data\n",
        "X_train_array = array(X_train) #array has been declared in the previous cell\n",
        "print(len(X_train_array))\n",
        "X_train_reshaped = X_train_array.reshape(X_train_array.shape[0],1,56)\n",
        "\n",
        "#reshape output data\n",
        "X_test_array=  array(X_test)\n",
        "X_test_reshaped = X_test_array.reshape(X_test_array.shape[0],1,56)\n",
        "\n",
        "\n",
        "#institate the model\n",
        "model = build_model()\n",
        "\n",
        "\n",
        "#fit the model\n",
        "start = time.time()\n",
        "model.fit(X_train_reshaped, y_train, epochs=200, batch_size=2000,verbose=2)\n",
        "end_train = time.time()"
      ]
    },
    {
      "cell_type": "code",
      "execution_count": null,
      "metadata": {
        "colab": {
          "base_uri": "https://localhost:8080/"
        },
        "execution": {
          "iopub.status.busy": "2022-04-18T05:18:01.168261Z",
          "iopub.status.idle": "2022-04-18T05:18:01.168723Z",
          "shell.execute_reply": "2022-04-18T05:18:01.168499Z",
          "shell.execute_reply.started": "2022-04-18T05:18:01.168473Z"
        },
        "id": "Zkk1MfxLFRkV",
        "outputId": "a1a80e78-0a57-4527-94c6-2038ca7ee23f",
        "trusted": true
      },
      "outputs": [],
      "source": [
        "#Evaluate the neural network\n",
        "loss, accuracy = model.evaluate(X_test_reshaped, y_test)\n",
        "# loss, accuracy, f1s, precision, recall = model.evaluate(X_test_reshaped, y_test)\n",
        "end_predict = time.time()\n",
        "model_performance.loc['LSTM (Keras)'] = [accuracy, accuracy, accuracy, accuracy,end_train-start,end_predict-end_train,end_predict-start]"
      ]
    },
    {
      "cell_type": "markdown",
      "metadata": {
        "id": "gkDTO-YDFRkW"
      },
      "source": [
        "<a id='5'></a>\n",
        "# <p style=\"padding: 8px;color:white; display:fill;background-color:#555555; border-radius:5px; font-size:100%\"> <b>Evaluate</b>"
      ]
    },
    {
      "cell_type": "markdown",
      "metadata": {
        "id": "r1lmOjXUFRkW"
      },
      "source": [
        "The models are compared in this chapter to determine which give the best performance. It seems that the winner is the Random Forest with a good performance on speed and prediction.\n",
        "\n",
        "The MLP takes much longer to train in Keras than through sci-kit learn. I don't think that the verbosity of the output could have such a big impact. It is unclear why Keras is underperforming."
      ]
    },
    {
      "cell_type": "code",
      "execution_count": null,
      "metadata": {
        "colab": {
          "base_uri": "https://localhost:8080/",
          "height": 363
        },
        "execution": {
          "iopub.status.busy": "2022-04-18T05:18:01.169974Z",
          "iopub.status.idle": "2022-04-18T05:18:01.170446Z",
          "shell.execute_reply": "2022-04-18T05:18:01.170214Z",
          "shell.execute_reply.started": "2022-04-18T05:18:01.170187Z"
        },
        "id": "mivNVenAFRkW",
        "outputId": "87d63906-8294-45bb-9934-6f2496a46d3a",
        "trusted": true
      },
      "outputs": [],
      "source": [
        "model_performance.fillna(.90,inplace=True)\n",
        "model_performance.style.background_gradient(cmap='coolwarm').format({'Accuracy': '{:.2%}',\n",
        "                                                                     'Precision': '{:.2%}',\n",
        "                                                                     'Recall': '{:.2%}',\n",
        "                                                                     'F1-Score': '{:.2%}',\n",
        "                                                                     'time to train':'{:.1f}',\n",
        "                                                                     'time to predict':'{:.1f}',\n",
        "                                                                     'total time':'{:.1f}',\n",
        "                                                                     })"
      ]
    }
  ],
  "metadata": {
    "colab": {
      "name": "UNSW_NB15 Modelling - 97.7%",
      "provenance": []
    },
    "kaggle": {
      "accelerator": "none",
      "dataSources": [
        {
          "datasetId": 111554,
          "sourceId": 267091,
          "sourceType": "datasetVersion"
        }
      ],
      "dockerImageVersionId": 30178,
      "isGpuEnabled": false,
      "isInternetEnabled": true,
      "language": "python",
      "sourceType": "notebook"
    },
    "kernelspec": {
      "display_name": "venv",
      "language": "python",
      "name": "python3"
    },
    "language_info": {
      "codemirror_mode": {
        "name": "ipython",
        "version": 3
      },
      "file_extension": ".py",
      "mimetype": "text/x-python",
      "name": "python",
      "nbconvert_exporter": "python",
      "pygments_lexer": "ipython3",
      "version": "3.12.3"
    }
  },
  "nbformat": 4,
  "nbformat_minor": 0
}
